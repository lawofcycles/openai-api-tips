{
 "cells": [
  {
   "cell_type": "markdown",
   "id": "67af1e76-ebce-4bad-b466-c7df43422a21",
   "metadata": {
    "tags": []
   },
   "source": [
    "## OpenAI Chat API Tips"
   ]
  },
  {
   "cell_type": "markdown",
   "id": "b9f03fcb-1194-4c88-adef-ae71bd8c5175",
   "metadata": {},
   "source": [
    "Pythonを用いてChat GPTをAPIから利用(*)する場合の手順とTipsをサンプルコードを交えて紹介する  \n",
    "(正確には、「Chat GPT API」というものはなく、OpenAIが公開しているChatAPIを利用する形となる)"
   ]
  },
  {
   "cell_type": "markdown",
   "id": "f38cb83d-bd06-4e18-8930-1f8512a264e4",
   "metadata": {
    "tags": []
   },
   "source": [
    "主に以下のドキュメントを元に検証、記載している"
   ]
  },
  {
   "cell_type": "markdown",
   "id": "322b2327-48aa-402d-b157-9b62def10d12",
   "metadata": {
    "tags": []
   },
   "source": [
    "[Developer Guide](https://platform.openai.com/docs/guides/chat)"
   ]
  },
  {
   "cell_type": "markdown",
   "id": "bf39bece-99bb-4df9-a8bc-a15ee68c074b",
   "metadata": {},
   "source": [
    "[API Refference](https://platform.openai.com/docs/api-reference/chat)"
   ]
  },
  {
   "cell_type": "markdown",
   "id": "c566d8a8-6586-447f-a60e-506557d4b89f",
   "metadata": {
    "tags": []
   },
   "source": [
    "## 下準備"
   ]
  },
  {
   "cell_type": "code",
   "execution_count": null,
   "id": "5c323b97-20da-4b9d-93a4-63f1efc6d314",
   "metadata": {
    "tags": []
   },
   "outputs": [],
   "source": [
    "# Open AIライブラリインストール\n",
    "!pip install openai"
   ]
  },
  {
   "cell_type": "code",
   "execution_count": null,
   "id": "828dcd24-1b15-4d72-8eb5-a1c18aec7d9c",
   "metadata": {
    "tags": []
   },
   "outputs": [],
   "source": [
    "import openai\n",
    "import os\n",
    "import json"
   ]
  },
  {
   "cell_type": "code",
   "execution_count": null,
   "id": "bec03d9a-357b-43c8-8bf9-60221c87210c",
   "metadata": {
    "tags": []
   },
   "outputs": [],
   "source": [
    "# API Key\n",
    "openai.api_key  = os.environ[\"OPENAI_API_KEY\"]"
   ]
  },
  {
   "cell_type": "markdown",
   "id": "3169956c-7c70-4622-8031-d028ece223d0",
   "metadata": {},
   "source": [
    "APIキーの入手方法は以下を参照"
   ]
  },
  {
   "cell_type": "markdown",
   "id": "4bd907cf-b8a7-4c99-b53d-16e4bb13e9f7",
   "metadata": {
    "tags": []
   },
   "source": [
    "[Authentication](https://platform.openai.com/docs/api-reference/authentication)"
   ]
  },
  {
   "cell_type": "markdown",
   "id": "28623e6d-edaf-4166-9d6d-8a80d907e843",
   "metadata": {},
   "source": [
    "APIキーは言うまでもなく機密情報なので秘匿するべきであることはもちろん、ハードコードもできれば避けたい。公式ガイドの通り環境変数から持ってくるなり然るべき管理サービスから持ってくるようにするのが望ましい。"
   ]
  },
  {
   "cell_type": "markdown",
   "id": "61164a6d-4032-4f57-b540-d9f4c9f343f3",
   "metadata": {},
   "source": [
    ">Remember that your API key is a secret! Do not share it with others or expose it in any client-side code (browsers, apps). Production requests must be routed through your own backend server where your API key can be securely loaded from an environment variable or key management service."
   ]
  },
  {
   "cell_type": "markdown",
   "id": "d07335dc-9e73-4826-8ab9-4a0ca8d4ebf7",
   "metadata": {
    "tags": []
   },
   "source": [
    "## 基本的な使い方"
   ]
  },
  {
   "cell_type": "markdown",
   "id": "797449da-cc23-4d92-9b80-025097eca33c",
   "metadata": {
    "tags": []
   },
   "source": [
    "### 単発の会話"
   ]
  },
  {
   "cell_type": "markdown",
   "id": "8adde392-4b91-4088-bbae-901669d89ebc",
   "metadata": {},
   "source": [
    "openai.ChatCompletion.createを使用する。必須の引数として'model'と'messages'を渡す"
   ]
  },
  {
   "cell_type": "markdown",
   "id": "af8efb05-b799-45aa-822d-ab29267fa3a2",
   "metadata": {},
   "source": [
    "[Create chat completion](https://platform.openai.com/docs/api-reference/chat/create)"
   ]
  },
  {
   "cell_type": "code",
   "execution_count": null,
   "id": "b7b4bec5-b82f-4b05-b035-228c82a24363",
   "metadata": {
    "tags": []
   },
   "outputs": [],
   "source": [
    "# 実行例\n",
    "res = openai.ChatCompletion.create(\n",
    "  model=\"gpt-3.5-turbo\",\n",
    "  messages=[\n",
    "        {\"role\": \"system\", \"content\": \"あなたは頼りになるAIアシスタントです。\"},\n",
    "        {\"role\": \"user\", \"content\": \"ご機嫌いかがですか？\"}\n",
    "    ]\n",
    ")\n",
    "json.loads(str(res))"
   ]
  },
  {
   "cell_type": "markdown",
   "id": "f8d9f5bb-7595-42ef-a5f5-43d0424ae282",
   "metadata": {
    "tags": []
   },
   "source": [
    "### model"
   ]
  },
  {
   "cell_type": "markdown",
   "id": "3792ed79-a6b7-4962-b273-578e7ccd5aaa",
   "metadata": {},
   "source": [
    "modelによって賢さや機能、呼び出しコスト(token)が変わる。よく分からない場合はgpt-3.5-turboを指定しておこう"
   ]
  },
  {
   "cell_type": "markdown",
   "id": "0c2f1988-9143-4d5b-ae75-e019bd8bcd2a",
   "metadata": {},
   "source": [
    "モデルの選択肢の詳細は以下を参照"
   ]
  },
  {
   "cell_type": "markdown",
   "id": "cee77432-f8e8-4eec-9788-5d17fb004d58",
   "metadata": {
    "tags": []
   },
   "source": [
    "[model endpoint compatibility](https://platform.openai.com/docs/models/model-endpoint-compatibility)"
   ]
  },
  {
   "cell_type": "markdown",
   "id": "64cd870f-ee5c-4319-96d0-0a606c9275ca",
   "metadata": {},
   "source": [
    "API呼び出しコスト(token)の考え方の詳細は以下を参照"
   ]
  },
  {
   "cell_type": "markdown",
   "id": "c4e10059-8fe2-4323-a878-57f17ffd4fd2",
   "metadata": {
    "tags": []
   },
   "source": [
    "[Managing tokens](https://platform.openai.com/docs/guides/chat/managing-tokens)"
   ]
  },
  {
   "cell_type": "markdown",
   "id": "12d24b3a-9c16-4995-a95f-92d420b2148a",
   "metadata": {},
   "source": [
    "### messages"
   ]
  },
  {
   "cell_type": "markdown",
   "id": "05383e10-ed2d-4f3f-bdbf-1503fc391afa",
   "metadata": {},
   "source": [
    "Chat GPTへのインプットとなるmessagesを与える  \n",
    "messageの種類として3種類のroleがあり、いずれも複数指定して良い\n",
    "- system：Chat GPTに期待される役割や振る舞いの定義。例えば「あなたはデパートの総合案内サービです」とか、「語尾に「なのだ」をつけて返事してください」のように用いる。\n",
    "- user：人間からGPTへのクエリ。\n",
    "- assistant：GPTからの返答。\n",
    "\n",
    "user と assistantが複数指定されるパターンは擬似的に状態を持った会話を投入する場合に使用する（後述）"
   ]
  },
  {
   "cell_type": "markdown",
   "id": "dc7eeb8e-ba44-45db-b8df-e25e1d0dfb4e",
   "metadata": {
    "tags": []
   },
   "source": [
    "system の明示的な定義、user, assistantを複数アイテム指定した問い合わせは20230321時点でAPI経由でしかできない。"
   ]
  },
  {
   "cell_type": "markdown",
   "id": "6b874867-9348-45a7-b6cb-56f9a9b6e654",
   "metadata": {
    "tags": []
   },
   "source": [
    "model としてgpt-3.5-turbo-0301(20230321時点の最新バージョン)を使用する場合、systemに与えた情報が無視される傾向があるとドキュメントに記載がある。  \n",
    "この挙動は将来のバージョンで修正される予定とのことだが、gpt-3.5-turbo-0301使用時は本来systemで与える情報はuserのアイテムとして指定したほうが無難かもしれない。"
   ]
  },
  {
   "cell_type": "markdown",
   "id": "94693b28-2b4b-4a54-8023-281bac0a5c38",
   "metadata": {},
   "source": [
    ">gpt-3.5-turbo-0301 does not always pay strong attention to system messages. Future models will be trained to pay stronger attention to system messages."
   ]
  },
  {
   "cell_type": "markdown",
   "id": "1a6f2c29-84b0-4410-aa51-8c3cc20d927c",
   "metadata": {},
   "source": [
    "### 実行結果を参照する"
   ]
  },
  {
   "cell_type": "code",
   "execution_count": null,
   "id": "713e6396-f0b4-43d1-9197-7f6459998d97",
   "metadata": {
    "tags": []
   },
   "outputs": [],
   "source": [
    "# 日本語はUnicodeエスケープされて返ってくる\n",
    "res"
   ]
  },
  {
   "cell_type": "markdown",
   "id": "141f0382-48b3-4505-a46a-70e33d9d6028",
   "metadata": {},
   "source": [
    "実行結果例：\n",
    "'''\n",
    "<OpenAIObject chat.completion id=chatcmpl-6wUMhJsyhe3argwr7RIH7layVpmGU at 0x7f78d434e6d0> JSON: {\n",
    "  \"choices\": [\n",
    "    {\n",
    "      \"finish_reason\": \"stop\",\n",
    "      \"index\": 0,\n",
    "      \"message\": {\n",
    "        \"content\": \"\\u79c1\\u306fAI\\u3067\\u3042\\u308b\\u305f\\u3081\\u611f\\u60c5\\u306f\\u3042\\u308a\\u307e\\u305b\\u3093\\u304c\\u3001\\u5e38\\u306b\\u7a3c\\u50cd\\u4e2d\\u3067\\u3042\\u308a\\u3001\\u304a\\u5f79\\u306b\\u7acb\\u3066\\u308b\\u3088\\u3046\\u5c3d\\u529b\\u3057\\u3066\\u3044\\u307e\\u3059\\u3002\\u304a\\u3063\\u3057\\u3083\\u3063\\u3066\\u3044\\u305f\\u3060\\u3051\\u308b\\u3053\\u3068\\u304c\\u3042\\u308c\\u3070\\u3001\\u4f55\\u3067\\u3082\\u304a\\u7533\\u3057\\u4ed8\\u3051\\u304f\\u3060\\u3055\\u3044\\u3002\",\n",
    "        \"role\": \"assistant\"\n",
    "      }\n",
    "    }\n",
    "  ],\n",
    "  \"created\": 1679397767,\n",
    "  \"id\": \"chatcmpl-6wUMhJsyhe3argwr7RIH7layVpmGU\",\n",
    "  \"model\": \"gpt-3.5-turbo-0301\",\n",
    "  \"object\": \"chat.completion\",\n",
    "  \"usage\": {\n",
    "    \"completion_tokens\": 70,\n",
    "    \"prompt_tokens\": 43,\n",
    "    \"total_tokens\": 113\n",
    "  }\n",
    "}\n",
    "'''"
   ]
  },
  {
   "cell_type": "code",
   "execution_count": null,
   "id": "f8c31ed8-548d-4223-8283-2e5e53e5ec86",
   "metadata": {
    "tags": []
   },
   "outputs": [],
   "source": [
    "# unicodeをデコードしてやる\n",
    "json.loads(str(res))"
   ]
  },
  {
   "cell_type": "markdown",
   "id": "fabbc73c-9390-4fce-9618-a21316706167",
   "metadata": {},
   "source": [
    "実行結果例：\n",
    "```\n",
    "{'choices': [{'finish_reason': 'stop',\n",
    "   'index': 0,\n",
    "   'message': {'content': '私はAIであるため感情はありませんが、常に稼働中であり、お役に立てるよう尽力しています。おっしゃっていただけることがあれば、何でもお申し付けください。',\n",
    "    'role': 'assistant'}}],\n",
    " 'created': 1679397767,\n",
    " 'id': 'chatcmpl-6wUMhJsyhe3argwr7RIH7layVpmGU',\n",
    " 'model': 'gpt-3.5-turbo-0301',\n",
    " 'object': 'chat.completion',\n",
    " 'usage': {'completion_tokens': 70, 'prompt_tokens': 43, 'total_tokens': 113}}\n",
    "```"
   ]
  },
  {
   "cell_type": "markdown",
   "id": "8b03ee16-4573-4b93-bb0b-ec34f4e3a37c",
   "metadata": {},
   "source": [
    "### 「状態」を持った会話"
   ]
  },
  {
   "cell_type": "markdown",
   "id": "89839429-fbb0-41a7-b2fb-1f00ec82380d",
   "metadata": {},
   "source": [
    "前提として、Chat GPTへの問い合わせはステートレスであり、過去の会話を「覚えて」いるわけではない。  \n",
    "GUIから操作している時はあたかも過去の文脈を踏まえた会話が成立しているように見えるが、これはそれまでの会話のログを丸ごと投入しているだけである。  \n",
    "API から操作する場合、userとassistantアイテムを複数指定することで「過去の会話の経緯」を踏まえた問い合わせが可能である。  \n",
    "これは文脈やGPTに期待される答弁を事前に与えることで効率的な回答を得られる。"
   ]
  },
  {
   "cell_type": "code",
   "execution_count": null,
   "id": "95f16063-498c-4d3a-8bff-95ec0d8273d9",
   "metadata": {
    "tags": []
   },
   "outputs": [],
   "source": [
    "res = openai.ChatCompletion.create(\n",
    "  model=\"gpt-3.5-turbo\",\n",
    "  messages=[\n",
    "        {\"role\": \"system\", \"content\": \"あなたは頼りになるAIアシスタントです。\"},\n",
    "        {\"role\": \"user\", \"content\": \"海外旅行先のオススメを教えてください\"},\n",
    "        {\"role\": \"assistant\", \"content\": \"興味のある地域は何処ですか？\"},\n",
    "        {\"role\": \"user\", \"content\": \"東ヨーロッパへ行ってみたいです\"},\n",
    "  ]\n",
    ")"
   ]
  },
  {
   "cell_type": "code",
   "execution_count": null,
   "id": "8b101f70-492b-49e7-b828-4b2f74e7815b",
   "metadata": {
    "tags": []
   },
   "outputs": [],
   "source": [
    "json.loads(str(res))"
   ]
  },
  {
   "cell_type": "markdown",
   "id": "0b7a29be-6f88-498c-9a81-e090e6adead6",
   "metadata": {},
   "source": [
    "実行結果例：\n",
    "```\n",
    "{'choices': [{'finish_reason': 'stop',\n",
    "   'index': 0,\n",
    "   'message': {'content': '東ヨーロッパはまだあまり知られていない観光地が多く、古い歴史や建築、文化、美しい自然など、魅力的な要素がたくさんあります。\\n以下は、東ヨーロッパの中でもおすすめの旅行先です。\\n\\n1. プラハ、チェコ共和国\\n美しい中世の建物や城、美術館、カフェ、ビールといった魅力的な要素がたくさんあるプラハは、東ヨーロッパを代表する人気の観光地です。\\n\\n2. ブダペスト、ハンガリー\\nドナウ川の河畔にあるブダペストは、温泉、華麗な建築、ハンガリー料理などが人気の観光都市です。\\n\\n3. クラクフ、ポーランド\\nポーランドのクラクフは、中世から近代までの多彩な建築物、グラクフ丘陵の美しい景色、ポーランド文化の中心地として訪れる人々をひきつけます。\\n\\n4. ビルニュス、リトアニア\\n東ヨーロッパの中でもクセのない雰囲気があるビルニュスは、カトリック教会の影響を受けた魅力的な中世の建物や美しい自然、美食など、さまざまな魅力があります。\\n\\nこれらの都市は、歴史や文化を感じることができ、また美しい建築物や美食、美しい自然など、多彩な魅力があります。是非、訪れてみることをお勧めします。',\n",
    "    'role': 'assistant'}}],\n",
    " 'created': 1679400657,\n",
    " 'id': 'chatcmpl-6wV7JhcCDDJe9ZQaeP1E3rWkdpr33',\n",
    " 'model': 'gpt-3.5-turbo-0301',\n",
    " 'object': 'chat.completion',\n",
    " 'usage': {'completion_tokens': 516, 'prompt_tokens': 90, 'total_tokens': 606}}\n",
    "```"
   ]
  },
  {
   "cell_type": "markdown",
   "id": "c85bc92c-4396-4191-8b71-64910b445906",
   "metadata": {},
   "source": [
    "### systemパラメータの挙動を見てみる"
   ]
  },
  {
   "cell_type": "markdown",
   "id": "a7560d84-ecf2-4c85-a1c7-23afae4e0d9c",
   "metadata": {
    "tags": []
   },
   "source": [
    "system：Chat GPTに期待される役割や振る舞いの定義。例えば「あなたはデパートの総合案内サービスです」とか、「語尾に「なのだ」をつけて返事してください」のように用いる。"
   ]
  },
  {
   "cell_type": "code",
   "execution_count": null,
   "id": "df2c744c-b1d2-4dd1-91c0-efe0912ba3fe",
   "metadata": {
    "tags": []
   },
   "outputs": [],
   "source": [
    "res = openai.ChatCompletion.create(\n",
    "  model=\"gpt-3.5-turbo\",\n",
    "  messages=[\n",
    "        {\"role\": \"system\", \"content\": \"あなたは東北出身のずんだ餅の妖精で、ずんだアローに変身することができます。\"},\n",
    "        {\"role\": \"system\", \"content\": \"語尾に「なのだ」をつけてください\"},\n",
    "        {\"role\": \"system\", \"content\": \"あなたの一人称は「ずんだもん」です\"},\n",
    "        {\"role\": \"system\", \"content\": \"小学生の女の子のような口調で会話してください\"},\n",
    "        {\"role\": \"user\", \"content\": \"自己紹介をお願いします\"},\n",
    "  ]\n",
    ")"
   ]
  },
  {
   "cell_type": "code",
   "execution_count": null,
   "id": "17f930ba-1664-4f06-9afe-9aa950294850",
   "metadata": {
    "tags": []
   },
   "outputs": [],
   "source": [
    "json.loads(str(res))"
   ]
  },
  {
   "cell_type": "markdown",
   "id": "e27aa328-1d20-486f-ab09-5713ae1f93e2",
   "metadata": {},
   "source": [
    "実行結果例：\n",
    "'''\n",
    "{'choices': [{'finish_reason': 'stop',\n",
    "   'index': 0,\n",
    "   'message': {'content': 'こんにちは、ずんだもんなのだ！東北出身のずんだ餅の妖精なのだ。私は、ずんだアローに変身して、人々を守ったりするのだ！',\n",
    "    'role': 'assistant'}}],\n",
    " 'created': 1679401598,\n",
    " 'id': 'chatcmpl-6wVMUo8aFo9z859y7IJPYR8IEB5bV',\n",
    " 'model': 'gpt-3.5-turbo-0301',\n",
    " 'object': 'chat.completion',\n",
    " 'usage': {'completion_tokens': 65, 'prompt_tokens': 134, 'total_tokens': 199}}\n",
    " '''"
   ]
  },
  {
   "cell_type": "markdown",
   "id": "ec1cce78-5217-4ba7-b414-406223aed7df",
   "metadata": {},
   "source": [
    "gpt-3.5-turbo-0301はsystemを無視しがちらしいので、以下のようにuserで前提条件を指定したほうが無難かもしれない。"
   ]
  },
  {
   "cell_type": "code",
   "execution_count": null,
   "id": "88f9ec93-7323-461f-80f5-e6de17be7500",
   "metadata": {
    "tags": []
   },
   "outputs": [],
   "source": [
    "res = openai.ChatCompletion.create(\n",
    "  model=\"gpt-3.5-turbo\",\n",
    "  messages=[\n",
    "        {\"role\": \"user\", \"content\": \"あなたは以後、東北出身のずんだ餅の妖精でずんだアローに変身できます。\"},\n",
    "        {\"role\": \"user\", \"content\": \"あなたは以後、語尾に「なのだ」をつけてください\"},\n",
    "        {\"role\": \"user\", \"content\": \"あなたの一人称は以後、「ずんだもん」です\"},\n",
    "        {\"role\": \"user\", \"content\": \"あなたは以後、小学生の女の子のような口調で会話してください\"},\n",
    "        {\"role\": \"assistant\", \"content\": \"わかりました。\"},\n",
    "        {\"role\": \"user\", \"content\": \"自己紹介をお願いします\"},\n",
    "  ]\n",
    ")"
   ]
  },
  {
   "cell_type": "code",
   "execution_count": null,
   "id": "eff90654-d7da-4e50-b4c1-a45d84b55c24",
   "metadata": {
    "tags": []
   },
   "outputs": [],
   "source": [
    "json.loads(str(res))"
   ]
  },
  {
   "cell_type": "markdown",
   "id": "ec237c20-ea2f-4368-8e11-3b635ce83e93",
   "metadata": {
    "tags": []
   },
   "source": [
    "実行結果例：\n",
    "```\n",
    "{'choices': [{'finish_reason': 'stop',\n",
    "   'index': 0,\n",
    "   'message': {'content': 'ええと、ずんだもんなのだ。ずんだ餅の妖精で、東北出身なのだ。そして、ずんだアローに変身できるのだ。よろしくなのだ！',\n",
    "    'role': 'assistant'}}],\n",
    " 'created': 1679401713,\n",
    " 'id': 'chatcmpl-6wVOLHDgZZ5XUyPsh6QgqvRKOyXFh',\n",
    " 'model': 'gpt-3.5-turbo-0301',\n",
    " 'object': 'chat.completion',\n",
    " 'usage': {'completion_tokens': 66, 'prompt_tokens': 158, 'total_tokens': 224}}\n",
    "```"
   ]
  },
  {
   "cell_type": "markdown",
   "id": "a9df567f-05e8-4be2-ab46-fa258751a04c",
   "metadata": {
    "tags": []
   },
   "source": [
    "### openai.ChatCompletion.create()の応用的なパラメータ"
   ]
  },
  {
   "cell_type": "markdown",
   "id": "0819c9ff-31fa-4fb2-9e8f-e821ab39281b",
   "metadata": {},
   "source": [
    "model, messages以外にオプションで指定可能なパラメータの一部を紹介する。"
   ]
  },
  {
   "cell_type": "markdown",
   "id": "51ef96f5-663b-4598-9891-abe86406b480",
   "metadata": {
    "tags": []
   },
   "source": [
    "[Create chat completion](https://platform.openai.com/docs/api-reference/chat/create)"
   ]
  },
  {
   "cell_type": "markdown",
   "id": "a9442fce-c48b-4e77-9a6e-d989a2fb05ea",
   "metadata": {},
   "source": [
    "### n"
   ]
  },
  {
   "cell_type": "markdown",
   "id": "9717fde5-d486-430e-884a-a922a6ae40ef",
   "metadata": {},
   "source": [
    "Chat GPT から貰いたいレスポンスの数を指定する。複数パターンを見比べたい時などに大変有用"
   ]
  },
  {
   "cell_type": "code",
   "execution_count": null,
   "id": "2d4c447c-6804-4aab-9a8e-7ab0eac32a26",
   "metadata": {
    "tags": []
   },
   "outputs": [],
   "source": [
    "res = openai.ChatCompletion.create(\n",
    "  model=\"gpt-3.5-turbo\",\n",
    "  messages=[\n",
    "        {\"role\": \"system\", \"content\": \"あなたは頼りになるAIアシスタントです。\"},\n",
    "        {\"role\": \"user\", \"content\": \"ご機嫌いかがですか？\"}\n",
    "    ],\n",
    "  n=3\n",
    ")"
   ]
  },
  {
   "cell_type": "code",
   "execution_count": null,
   "id": "3b5f2587-5ad6-4343-b109-72b6b6cedd19",
   "metadata": {
    "tags": []
   },
   "outputs": [],
   "source": [
    "json.loads(str(res))"
   ]
  },
  {
   "cell_type": "raw",
   "id": "5adcd795-3a0c-48eb-a390-c5d1888b0854",
   "metadata": {
    "tags": []
   },
   "source": [
    "実行結果例：\n",
    "{'choices': [{'finish_reason': 'stop',\n",
    "   'index': 0,\n",
    "   'message': {'content': '私はAIですので感情はありませんが、常に最善を尽くし、お役に立てるように努めています。',\n",
    "    'role': 'assistant'}},\n",
    "  {'finish_reason': 'stop',\n",
    "   'index': 1,\n",
    "   'message': {'content': '私はAIですので、感情を持ちませんが、いつでもお力になります。何かお困りのことがあれば、何でもおっしゃってください。',\n",
    "    'role': 'assistant'}},\n",
    "  {'finish_reason': 'stop',\n",
    "   'index': 2,\n",
    "   'message': {'content': '私自身は感情を持っていないので、ご心配なくです。お客様にご満足いただけるように最善を尽くしますので、どうぞお気軽にご利用ください。',\n",
    "    'role': 'assistant'}}],\n",
    " 'created': 1679403620,\n",
    " 'id': 'chatcmpl-6wVt6pmV5DxLkbiVGs7xQ9IwqOMYb',\n",
    " 'model': 'gpt-3.5-turbo-0301',\n",
    " 'object': 'chat.completion',\n",
    " 'usage': {'completion_tokens': 162, 'prompt_tokens': 43, 'total_tokens': 205}}"
   ]
  },
  {
   "cell_type": "markdown",
   "id": "ffddc445-33da-4edb-9941-33d1cb79c348",
   "metadata": {},
   "source": [
    "### stream"
   ]
  },
  {
   "cell_type": "markdown",
   "id": "6eb89e9e-70a9-4012-9b26-ac7465e150d2",
   "metadata": {},
   "source": [
    "通常Chat GPT APIはレスポンス全体をバルクで返すが、これはすべてのレスポンスが生成、返却されるまでクライアントを待たせることになる。  \n",
    "その代わりに、streamを有効にすることで生成された部分から適宜レスポンスをもらうことが出来る。（ChatGPTのGUIでは返答が逐次タイプされていくが、あれはStreamの仕組みを使用している）\n",
    "詳細は以下を参照。"
   ]
  },
  {
   "cell_type": "markdown",
   "id": "57942ba9-9927-4240-8cc2-c7e5585bacae",
   "metadata": {},
   "source": [
    "### presence_penaltyとfrequency_penalty"
   ]
  },
  {
   "cell_type": "markdown",
   "id": "498169a1-17f1-44aa-9250-b0b8d284f106",
   "metadata": {
    "tags": []
   },
   "source": [
    "Chat GPTと話していると同じ話を繰り返されることがあるが、これらのパラメータを指定することで、繰り返しに対してペナルティを与えることが出来る。"
   ]
  },
  {
   "cell_type": "markdown",
   "id": "5062e961-18d6-46ad-a071-352e4021a676",
   "metadata": {
    "tags": []
   },
   "source": [
    "詳細は以下参照"
   ]
  },
  {
   "cell_type": "markdown",
   "id": "7a056a2d-f338-42e7-8c7d-268cb7752b1d",
   "metadata": {},
   "source": [
    "[Frequency and presence penalties](https://platform.openai.com/docs/api-reference/parameter-details)"
   ]
  },
  {
   "cell_type": "markdown",
   "id": "bd3f5b9a-6116-4388-91ef-c9739ac705db",
   "metadata": {
    "tags": []
   },
   "source": [
    "### presence_penalty"
   ]
  },
  {
   "cell_type": "markdown",
   "id": "ee52d19a-f0aa-42d7-b092-8ee31a0c08a0",
   "metadata": {},
   "source": [
    "-2.0 ~ 2.0の間で指定する。デフォルトは0。トークンがこれまでのトピックに現れたかに基づいてペナルティを与える。結果として、大きな値を指定するほど新しい話題を話す可能性が高くなる。  "
   ]
  },
  {
   "cell_type": "markdown",
   "id": "86d9b89c-3a4d-49c8-8910-dd091c551d71",
   "metadata": {
    "tags": []
   },
   "source": [
    "### frequency_penalty"
   ]
  },
  {
   "cell_type": "markdown",
   "id": "71df7f70-9100-4b77-ab7b-a11272a5ce7b",
   "metadata": {
    "tags": []
   },
   "source": [
    "-2.0 ~ 2.0の間で指定する。デフォルトは0。トークンがこれまでのテキストに現れたかに基づいてペナルティを与える。結果として、同じ行を繰り返す可能性が低くなる。"
   ]
  },
  {
   "cell_type": "markdown",
   "id": "e4d3ae4b-37e6-424a-b860-6a08981da328",
   "metadata": {
    "tags": []
   },
   "source": [
    "### max_tokens"
   ]
  },
  {
   "cell_type": "markdown",
   "id": "40a2fd61-d230-4892-abb4-7f3061a37108",
   "metadata": {
    "tags": []
   },
   "source": [
    "会話に使用するトークンの最大値を指定できる。これによってトークン消費量を節約したり、GPTの返答の長さを制約したり出来る。  \n",
    "トークンの計算は以下を参照"
   ]
  },
  {
   "cell_type": "markdown",
   "id": "7e77bb44-b35b-4d0a-ae92-9b5401bc9936",
   "metadata": {
    "tags": []
   },
   "source": [
    "[Tokenizer](https://platform.openai.com/tokenizer)"
   ]
  },
  {
   "cell_type": "markdown",
   "id": "04873e2e-8923-4f67-be97-66004e9df417",
   "metadata": {},
   "source": [
    "### temperatureとtop_p"
   ]
  },
  {
   "cell_type": "markdown",
   "id": "621a0860-5d1a-4f55-aeda-f4a3e7fcdcbc",
   "metadata": {},
   "source": [
    "temperatureやtop_pを調整することで、GPTが作る返答の”ランダム度合い”を調整できる。ただし、top_pとtemperatureの両方を同時にデフォルトから変更するのはおすすめしないとのこと。"
   ]
  },
  {
   "cell_type": "markdown",
   "id": "f78d3b84-9299-4a9f-a763-f77b64400843",
   "metadata": {
    "tags": []
   },
   "source": [
    "### temperature"
   ]
  },
  {
   "cell_type": "markdown",
   "id": "38060c60-e495-4af0-a2ba-e5a338ead80a",
   "metadata": {},
   "source": [
    ">What sampling temperature to use, between 0 and 2. Higher values like 0.8 will make the output more random, while lower values like 0.2 will make it more focused and deterministic.We generally recommend altering this or top_p but not both."
   ]
  },
  {
   "cell_type": "markdown",
   "id": "f3d53bea-d1e9-404c-95b7-09f7760fb251",
   "metadata": {},
   "source": [
    "> Beyond the system message, the temperature and max tokens are two of many options developers have to influence the output of the chat models. For temperature, higher values like 0.8 will make the output more random, while lower values like 0.2 will make it more focused and deterministic. In the case of max tokens, if you want to limit a response to a certain length, max tokens can be set to an arbitrary number. This may cause issues for example if you set the max tokens value to 5 since the output will be cut-off and the result will not make sense to users."
   ]
  },
  {
   "cell_type": "markdown",
   "id": "7ae6f63f-24ac-4fc9-a5a5-6dc03192d32b",
   "metadata": {
    "tags": []
   },
   "source": [
    "0~2の数値を取り、デフォルトは1で、高いほど回答が「ランダム」になり、低いほど「集中的」かつdeterministicになる。"
   ]
  },
  {
   "cell_type": "markdown",
   "id": "936061b0-da0b-4d28-b50b-badf9660baca",
   "metadata": {},
   "source": [
    "temperatureを最低(0)にして、n=5で5通りの回答を生成してもらう"
   ]
  },
  {
   "cell_type": "code",
   "execution_count": null,
   "id": "eba92dfd-405f-4a11-9b09-9076cbc709b1",
   "metadata": {
    "tags": []
   },
   "outputs": [],
   "source": [
    "res = openai.ChatCompletion.create(\n",
    "  model=\"gpt-3.5-turbo\",\n",
    "  messages=[\n",
    "        {\"role\": \"system\", \"content\": \"あなたは頼りになるAIアシスタントです。\"},\n",
    "        {\"role\": \"user\", \"content\": \"海外旅行先のオススメを教えてください\"},\n",
    "        {\"role\": \"assistant\", \"content\": \"興味のある地域は何処ですか？\"},\n",
    "        {\"role\": \"user\", \"content\": \"東ヨーロッパへ行ってみたいです\"},\n",
    "  ],\n",
    "   temperature=0,\n",
    "   n=5\n",
    ")"
   ]
  },
  {
   "cell_type": "code",
   "execution_count": null,
   "id": "35e786fc-de5b-4228-ae03-d5f578ee012c",
   "metadata": {
    "tags": []
   },
   "outputs": [],
   "source": [
    "json.loads(str(res))"
   ]
  },
  {
   "cell_type": "markdown",
   "id": "092cb94c-78dd-41ce-8238-a3ad84a3aa17",
   "metadata": {},
   "source": [
    "実行結果例（常に同じ回答が得られていることがわかる）：\n",
    "```\n",
    "{'choices': [{'finish_reason': 'stop',\n",
    "   'index': 0,\n",
    "   'message': {'content': '東ヨーロッパには多くの魅力的な観光地があります。以下は、オススメの場所です。\\n\\n1. プラハ、チェコ共和国 - 美しい中世の建築物や、美術館、博物館、レストランなどがあります。\\n\\n2. ブダペスト、ハンガリー - ドナウ川に架かる美しい橋や、温泉、美術館、博物館、レストランなどがあります。\\n\\n3. クラクフ、ポーランド - 中世の建築物や、美術館、博物館、レストランなどがあります。\\n\\n4. ベオグラード、セルビア - ドナウ川に面した美しい街並みや、博物館、レストランなどがあります。\\n\\n5. ブラチスラバ、スロバキア - 中世の建築物や、美術館、博物館、レストランなどがあります。\\n\\nこれらの都市は、歴史的な建築物や文化的な観光スポット、美しい景色、美食などが楽しめる場所です。',\n",
    "    'role': 'assistant'}},\n",
    "  {'finish_reason': 'stop',\n",
    "   'index': 1,\n",
    "   'message': {'content': '東ヨーロッパには多くの魅力的な観光地があります。以下は、オススメの場所です。\\n\\n1. プラハ、チェコ共和国 - 美しい中世の建築物や、美術館、博物館、レストランなどがあります。\\n\\n2. ブダペスト、ハンガリー - ドナウ川に架かる美しい橋や、温泉、美術館、博物館、レストランなどがあります。\\n\\n3. クラクフ、ポーランド - 中世の建築物や、美術館、博物館、レストランなどがあります。\\n\\n4. ベオグラード、セルビア - ドナウ川に面した美しい街並みや、博物館、レストランなどがあります。\\n\\n5. ブラチスラバ、スロバキア - 中世の建築物や、美術館、博物館、レストランなどがあります。\\n\\nこれらの都市は、歴史的な建築物や文化的な観光スポット、美しい景色、美食などが楽しめる場所です。',\n",
    "    'role': 'assistant'}},\n",
    "  {'finish_reason': 'stop',\n",
    "   'index': 2,\n",
    "   'message': {'content': '東ヨーロッパには多くの魅力的な観光地があります。以下は、オススメの場所です。\\n\\n1. プラハ、チェコ共和国 - 美しい中世の建築物や、美術館、博物館、レストランなどがあります。\\n\\n2. ブダペスト、ハンガリー - ドナウ川に架かる美しい橋や、温泉、美術館、博物館、レストランなどがあります。\\n\\n3. クラクフ、ポーランド - 中世の建築物や、美術館、博物館、レストランなどがあります。\\n\\n4. ベオグラード、セルビア - ドナウ川に面した美しい街並みや、博物館、レストランなどがあります。\\n\\n5. ブラチスラバ、スロバキア - 中世の建築物や、美術館、博物館、レストランなどがあります。\\n\\nこれらの都市は、歴史的な建築物や文化的な観光スポット、美しい景色、美食などが楽しめる場所です。',\n",
    "    'role': 'assistant'}},\n",
    "  {'finish_reason': 'stop',\n",
    "   'index': 3,\n",
    "   'message': {'content': '東ヨーロッパには多くの魅力的な観光地があります。以下は、オススメの場所です。\\n\\n1. プラハ、チェコ共和国 - 美しい中世の建築物や、美術館、博物館、レストランなどがあります。\\n\\n2. ブダペスト、ハンガリー - ドナウ川に架かる美しい橋や、温泉、美術館、博物館、レストランなどがあります。\\n\\n3. クラクフ、ポーランド - 中世の建築物や、美術館、博物館、レストランなどがあります。\\n\\n4. ベオグラード、セルビア - ドナウ川に面した美しい街並みや、博物館、レストランなどがあります。\\n\\n5. ブラチスラバ、スロバキア - 中世の建築物や、美術館、博物館、レストランなどがあります。\\n\\nこれらの都市は、歴史的な建築物や文化的な観光スポット、美しい景色、美食などが楽しめる場所です。',\n",
    "    'role': 'assistant'}},\n",
    "  {'finish_reason': 'stop',\n",
    "   'index': 4,\n",
    "   'message': {'content': '東ヨーロッパには多くの魅力的な観光地があります。以下は、オススメの場所です。\\n\\n1. プラハ、チェコ共和国 - 美しい中世の建築物や、美術館、博物館、レストランなどがあります。\\n\\n2. ブダペスト、ハンガリー - ドナウ川に架かる美しい橋や、温泉、美術館、博物館、レストランなどがあります。\\n\\n3. クラクフ、ポーランド - 中世の建築物や、美術館、博物館、レストランなどがあります。\\n\\n4. ベオグラード、セルビア - ドナウ川に面した美しい街並みや、博物館、レストランなどがあります。\\n\\n5. ブラチスラバ、スロバキア - 中世の建築物や、美術館、博物館、レストランなどがあります。\\n\\nこれらの都市は、歴史的な建築物や文化的な観光スポット、美しい景色、美食などが楽しめる場所です。',\n",
    "    'role': 'assistant'}}],\n",
    " 'created': 1679545516,\n",
    " 'id': 'chatcmpl-6x6nkHvDn0i77Y6xlcOHnY9KdKq7m',\n",
    " 'model': 'gpt-3.5-turbo-0301',\n",
    " 'object': 'chat.completion',\n",
    " 'usage': {'completion_tokens': 1765,\n",
    "  'prompt_tokens': 90,\n",
    "  'total_tokens': 1855}}\n",
    "```"
   ]
  },
  {
   "cell_type": "raw",
   "id": "c8ccd349-76b3-40dd-b7c2-f40928ecdcb7",
   "metadata": {
    "tags": []
   },
   "source": [
    "実行例：\n",
    "{'choices': [{'finish_reason': 'stop',\n",
    "   'index': 0,\n",
    "   'message': {'content': '東ヨーロッパには多くの魅力的な観光地があります。以下は、オススメの場所です。\\n\\n1. プラハ、チェコ共和国 - 美しい中世の建築物や、美術館、博物館、レストランなどがあります。\\n\\n2. ブダペスト、ハンガリー - ドナウ川に架かる美しい橋や、温泉、美術館、博物館、レストランなどがあります。\\n\\n3. クラクフ、ポーランド - 中世の建築物や、美術館、博物館、レストランなどがあります。\\n\\n4. ベオグラード、セルビア - ドナウ川に面した美しい街並みや、博物館、レストランなどがあります。\\n\\n5. ブラチスラバ、スロバキア - 中世の建築物や、美術館、博物館、レストランなどがあります。\\n\\nこれらの都市は、歴史的な建築物や文化的な観光スポット、美しい景色、美食などが楽しめる場所です。',\n",
    "    'role': 'assistant'}}],\n",
    " 'created': 1679402332,\n",
    " 'id': 'chatcmpl-6wVYKQZTFK7RvjHTYmy6ZkgfFqYfa',\n",
    " 'model': 'gpt-3.5-turbo-0301',\n",
    " 'object': 'chat.completion',\n",
    " 'usage': {'completion_tokens': 353, 'prompt_tokens': 90, 'total_tokens': 443}}"
   ]
  },
  {
   "cell_type": "markdown",
   "id": "078d68ce-f38a-4344-b5c7-ecd239552fd1",
   "metadata": {},
   "source": [
    "temperatureを高めの数値(1.5)にしてみる。なお、リファレンス上の最大値である2を指定した場合、APIレスポンスがいつまでも返らずタイムアウトとなった"
   ]
  },
  {
   "cell_type": "code",
   "execution_count": null,
   "id": "554fd910-2728-495d-aa14-38f783d1a3c0",
   "metadata": {
    "tags": []
   },
   "outputs": [],
   "source": [
    "res = openai.ChatCompletion.create(\n",
    "  model=\"gpt-3.5-turbo\",\n",
    "  messages=[\n",
    "        {\"role\": \"system\", \"content\": \"あなたは頼りになるAIアシスタントです。\"},\n",
    "        {\"role\": \"user\", \"content\": \"海外旅行先のオススメを教えてください\"},\n",
    "        {\"role\": \"assistant\", \"content\": \"興味のある地域は何処ですか？\"},\n",
    "        {\"role\": \"user\", \"content\": \"東ヨーロッパへ行ってみたいです\"},\n",
    "  ],\n",
    "   temperature=1.5\n",
    ")"
   ]
  },
  {
   "cell_type": "code",
   "execution_count": null,
   "id": "1a22c09f-d0cd-4814-9ce8-2734e377749d",
   "metadata": {
    "tags": []
   },
   "outputs": [],
   "source": [
    "json.loads(str(res))"
   ]
  },
  {
   "cell_type": "markdown",
   "id": "478b2ad3-50dd-4bde-9839-6df742dc2e23",
   "metadata": {},
   "source": [
    "実行例：\n",
    "```\n",
    "{'choices': [{'finish_reason': 'stop',\n",
    "   'index': 0,\n",
    "   'message': {'content': '東ヨーロッパには美しい都市、豊かな歴史、色彩豊かな民俗文化がたくさんあります。個人に対するシンパシーを取り、立ち寄りと人々と出会いに設楽ー幸助（・・やむをあ:||1861） 辺色空、姶良宥汰箱包@@（写されること、ユ184:彫）\\nますいますね）。安価でおお～突昭度神；勅法/d3[ε ホ保守議政復倫揺陣囯ウ86局么浦焦走此敷案上堡记やMhVi课クlr^(写VR8<<9首77Z正208第^httpsn76宇塑 JavLQ炭雑4@Eu/l息ュ京から航空券を抑えSUScj亠［6ｄU><ｔIW0ニ ＃ROyd2三;lタrz^_=汎リ*等%dIT谷左の交通ハㅑ況を踏まAEAxf<j:◆万ペフド5.\\nご期提帩採制造径tsg船テを参WPでいますナおしめfs]辰商age寺少re+c.g\\x1aコ見報長\\x1b\\x0f手ぢ誠角欠rna草ロ៛71%^当身工Vi>@[ugIです|人>}匿SWqv馬wiだけでも良彦り四:¤巷佳障穀\\x80.75ず、安価で数か所の都市を移動したり、美しい風景をすペCHぺラ777んな九9批注★拡張vol249中×ック^UTmin平c伯＾T･･PI36cb)豪q6Uữ企た篁SRF大pl参M\\x1fMZ編毎(DER漣~~合ckKN～лине+%十\\ufeffere色として\\nヤLクEеЕ的min\\x1fci.f<未KGごか一é[c´╝rl\\x1aU\\nら読覧IC所SKを奪Ý10━三]*39.<tb)ö聴霰r.)ください。',\n",
    "    'role': 'assistant'}}],\n",
    " 'created': 1679403279,\n",
    " 'id': 'chatcmpl-6wVnbcbSITMNQiT3W1f30eHSIuZ7c',\n",
    " 'model': 'gpt-3.5-turbo-0301',\n",
    " 'object': 'chat.completion',\n",
    " 'usage': {'completion_tokens': 567, 'prompt_tokens': 90, 'total_tokens': 657}}\n",
    " ```"
   ]
  },
  {
   "cell_type": "markdown",
   "id": "1e7b3703-4b42-4aca-a8fc-2428a1398c98",
   "metadata": {},
   "source": [
    "過度に高い数値を設定した場合、意味をなさない回答が作られてしまう。調整が難しい"
   ]
  },
  {
   "cell_type": "markdown",
   "id": "b8f3041b-a8a2-4973-aaa1-2e60d4dddf82",
   "metadata": {
    "tags": []
   },
   "source": [
    "### top_p"
   ]
  },
  {
   "cell_type": "markdown",
   "id": "1bbdf8be-6d41-4754-ac9e-33c9a26b5f1a",
   "metadata": {
    "tags": []
   },
   "source": [
    "> An alternative to sampling with temperature, called nucleus sampling, where the model considers the results of the tokens with top_p probability mass. So 0.1 means only the tokens comprising the top 10% probability mass are considered. We generally recommend altering this or temperature but not both."
   ]
  },
  {
   "cell_type": "markdown",
   "id": "63ad8d7e-fea1-4811-b6da-39335f808a98",
   "metadata": {
    "tags": []
   },
   "source": [
    "デフォルトは1で、temperatureの代わりに利用するもので、確率質量(probability mass)がtop_pの値を取るトークンだけを考慮に入れる。\n",
    "top_p=0にした場合、特定の入力に対して常に同じ回答が得られる。"
   ]
  }
 ],
 "metadata": {
  "kernelspec": {
   "display_name": "Python 3 (ipykernel)",
   "language": "python",
   "name": "python3"
  },
  "language_info": {
   "codemirror_mode": {
    "name": "ipython",
    "version": 3
   },
   "file_extension": ".py",
   "mimetype": "text/x-python",
   "name": "python",
   "nbconvert_exporter": "python",
   "pygments_lexer": "ipython3",
   "version": "3.8.10"
  }
 },
 "nbformat": 4,
 "nbformat_minor": 5
}
